{
 "cells": [
  {
   "cell_type": "code",
   "execution_count": 9,
   "id": "5b901f07-9078-443a-82d5-c64297479799",
   "metadata": {},
   "outputs": [],
   "source": [
    "#Dictionary\n",
    "person={\n",
    "    \"first\":\"Isa\",\n",
    "    \"last\":\"Bella\",\n",
    "    \"email\":\"isabell@xyz.com\"\n",
    "}"
   ]
  },
  {
   "cell_type": "code",
   "execution_count": 10,
   "id": "34d447b2-1f28-4031-afa3-290c1800b4a7",
   "metadata": {},
   "outputs": [],
   "source": [
    "people={\n",
    "    \"first\":[\"Isa\"],\n",
    "    \"last\":[\"Bell\"],\n",
    "    \"email\":[\"isabell@xyz.com\"]\n",
    "}"
   ]
  },
  {
   "cell_type": "code",
   "execution_count": 32,
   "id": "889c2c81-7fb8-46a9-bb3b-a6cf46779ab8",
   "metadata": {},
   "outputs": [],
   "source": [
    "#Creating a list inside dictionart so that its more useful\n",
    "people={\n",
    "    \"first\":[\"Isa\",\"Jane\",\"John\"],\n",
    "    \"last\":[\"Bell\",\"Doe\",\"Brown\"],\n",
    "    \"email\":[\"isabell@xyz.com\",\"janedoe@xyz.com\",\"johnbrown@xyz.com\"]\n",
    "}"
   ]
  },
  {
   "cell_type": "code",
   "execution_count": 33,
   "id": "9734ff41-abb4-4500-a93a-a452e7bfb3cc",
   "metadata": {},
   "outputs": [
    {
     "data": {
      "text/plain": [
       "['isabell@xyz.com', 'janedoe@xyz.com', 'johnbrown@xyz.com']"
      ]
     },
     "execution_count": 33,
     "metadata": {},
     "output_type": "execute_result"
    }
   ],
   "source": [
    "people[\"email\"]"
   ]
  },
  {
   "cell_type": "code",
   "execution_count": 2,
   "id": "a02bbbc7-acb3-45bd-a127-40c2319298d7",
   "metadata": {},
   "outputs": [],
   "source": [
    "import pandas as pd"
   ]
  },
  {
   "cell_type": "markdown",
   "id": "e5c14ee9-77ad-4989-af4b-c273ddc7bc4c",
   "metadata": {},
   "source": [
    "#### Creating a data frame:"
   ]
  },
  {
   "cell_type": "code",
   "execution_count": 38,
   "id": "97f13858-bc42-46b7-a242-adb3c1b81555",
   "metadata": {},
   "outputs": [
    {
     "data": {
      "text/html": [
       "<div>\n",
       "<style scoped>\n",
       "    .dataframe tbody tr th:only-of-type {\n",
       "        vertical-align: middle;\n",
       "    }\n",
       "\n",
       "    .dataframe tbody tr th {\n",
       "        vertical-align: top;\n",
       "    }\n",
       "\n",
       "    .dataframe thead th {\n",
       "        text-align: right;\n",
       "    }\n",
       "</style>\n",
       "<table border=\"1\" class=\"dataframe\">\n",
       "  <thead>\n",
       "    <tr style=\"text-align: right;\">\n",
       "      <th></th>\n",
       "      <th>first</th>\n",
       "      <th>last</th>\n",
       "      <th>email</th>\n",
       "    </tr>\n",
       "  </thead>\n",
       "  <tbody>\n",
       "    <tr>\n",
       "      <th>0</th>\n",
       "      <td>Isa</td>\n",
       "      <td>Bell</td>\n",
       "      <td>isabell@xyz.com</td>\n",
       "    </tr>\n",
       "    <tr>\n",
       "      <th>1</th>\n",
       "      <td>Jane</td>\n",
       "      <td>Doe</td>\n",
       "      <td>janedoe@xyz.com</td>\n",
       "    </tr>\n",
       "    <tr>\n",
       "      <th>2</th>\n",
       "      <td>John</td>\n",
       "      <td>Brown</td>\n",
       "      <td>johnbrown@xyz.com</td>\n",
       "    </tr>\n",
       "  </tbody>\n",
       "</table>\n",
       "</div>"
      ],
      "text/plain": [
       "  first   last              email\n",
       "0   Isa   Bell    isabell@xyz.com\n",
       "1  Jane    Doe    janedoe@xyz.com\n",
       "2  John  Brown  johnbrown@xyz.com"
      ]
     },
     "execution_count": 38,
     "metadata": {},
     "output_type": "execute_result"
    }
   ],
   "source": [
    "\n",
    "df=pd.DataFrame(people)\n",
    "df"
   ]
  },
  {
   "cell_type": "markdown",
   "id": "9bab4ae1-82c9-4c98-a6dd-ce9e4e1601b9",
   "metadata": {},
   "source": [
    "#### How to access information within data frames:"
   ]
  },
  {
   "cell_type": "code",
   "execution_count": 40,
   "id": "6263f8fe-773a-4022-9290-d9b68b7b85e7",
   "metadata": {},
   "outputs": [
    {
     "data": {
      "text/plain": [
       "0      isabell@xyz.com\n",
       "1      janedoe@xyz.com\n",
       "2    johnbrown@xyz.com\n",
       "Name: email, dtype: object"
      ]
     },
     "execution_count": 40,
     "metadata": {},
     "output_type": "execute_result"
    }
   ],
   "source": [
    "\n",
    "df[\"email\"] #or:\n",
    "df.email"
   ]
  },
  {
   "cell_type": "code",
   "execution_count": 41,
   "id": "eef72f36-df8b-4aa2-8662-227498885877",
   "metadata": {},
   "outputs": [
    {
     "data": {
      "text/plain": [
       "pandas.core.series.Series"
      ]
     },
     "execution_count": 41,
     "metadata": {},
     "output_type": "execute_result"
    }
   ],
   "source": [
    "type(df[\"email\"])"
   ]
  },
  {
   "cell_type": "markdown",
   "id": "758d1eda-1fc5-4573-8183-df1e50a1f99d",
   "metadata": {},
   "source": [
    "#### Accessing multiple columns:"
   ]
  },
  {
   "cell_type": "code",
   "execution_count": 42,
   "id": "ee6efaa9-4d38-4881-bf7c-dfd5129dd82f",
   "metadata": {},
   "outputs": [
    {
     "data": {
      "text/html": [
       "<div>\n",
       "<style scoped>\n",
       "    .dataframe tbody tr th:only-of-type {\n",
       "        vertical-align: middle;\n",
       "    }\n",
       "\n",
       "    .dataframe tbody tr th {\n",
       "        vertical-align: top;\n",
       "    }\n",
       "\n",
       "    .dataframe thead th {\n",
       "        text-align: right;\n",
       "    }\n",
       "</style>\n",
       "<table border=\"1\" class=\"dataframe\">\n",
       "  <thead>\n",
       "    <tr style=\"text-align: right;\">\n",
       "      <th></th>\n",
       "      <th>last</th>\n",
       "      <th>email</th>\n",
       "    </tr>\n",
       "  </thead>\n",
       "  <tbody>\n",
       "    <tr>\n",
       "      <th>0</th>\n",
       "      <td>Bell</td>\n",
       "      <td>isabell@xyz.com</td>\n",
       "    </tr>\n",
       "    <tr>\n",
       "      <th>1</th>\n",
       "      <td>Doe</td>\n",
       "      <td>janedoe@xyz.com</td>\n",
       "    </tr>\n",
       "    <tr>\n",
       "      <th>2</th>\n",
       "      <td>Brown</td>\n",
       "      <td>johnbrown@xyz.com</td>\n",
       "    </tr>\n",
       "  </tbody>\n",
       "</table>\n",
       "</div>"
      ],
      "text/plain": [
       "    last              email\n",
       "0   Bell    isabell@xyz.com\n",
       "1    Doe    janedoe@xyz.com\n",
       "2  Brown  johnbrown@xyz.com"
      ]
     },
     "execution_count": 42,
     "metadata": {},
     "output_type": "execute_result"
    }
   ],
   "source": [
    "df[['last','email']] #this will not be a series"
   ]
  },
  {
   "cell_type": "markdown",
   "id": "e86cc43e-f193-401b-ba4f-842772e3baaf",
   "metadata": {},
   "source": [
    "#### To see all the columns:"
   ]
  },
  {
   "cell_type": "code",
   "execution_count": 43,
   "id": "fa5905d2-c1f3-4a76-82a8-fde46083c314",
   "metadata": {},
   "outputs": [
    {
     "data": {
      "text/plain": [
       "Index(['first', 'last', 'email'], dtype='object')"
      ]
     },
     "execution_count": 43,
     "metadata": {},
     "output_type": "execute_result"
    }
   ],
   "source": [
    "df.columns"
   ]
  },
  {
   "cell_type": "markdown",
   "id": "9d413a79-815c-4cde-9d3b-053d5e4e8b3e",
   "metadata": {},
   "source": [
    "#### To see the rows:"
   ]
  },
  {
   "cell_type": "code",
   "execution_count": 23,
   "id": "55150e61-ebd0-4311-8eda-f7c857ff1a65",
   "metadata": {},
   "outputs": [
    {
     "data": {
      "text/plain": [
       "first                Isa\n",
       "last                Bell\n",
       "email    isabell@xyz.com\n",
       "Name: 0, dtype: object"
      ]
     },
     "execution_count": 23,
     "metadata": {},
     "output_type": "execute_result"
    }
   ],
   "source": [
    "#Using iloc:\n",
    "df.iloc[0]"
   ]
  },
  {
   "cell_type": "markdown",
   "id": "c92b61c7-9cfc-4c68-97c7-4b504960fcd0",
   "metadata": {},
   "source": [
    "#### Accessing multiple rows:"
   ]
  },
  {
   "cell_type": "code",
   "execution_count": 44,
   "id": "31e60136-dec1-4f01-b3b6-bff165324743",
   "metadata": {},
   "outputs": [
    {
     "data": {
      "text/html": [
       "<div>\n",
       "<style scoped>\n",
       "    .dataframe tbody tr th:only-of-type {\n",
       "        vertical-align: middle;\n",
       "    }\n",
       "\n",
       "    .dataframe tbody tr th {\n",
       "        vertical-align: top;\n",
       "    }\n",
       "\n",
       "    .dataframe thead th {\n",
       "        text-align: right;\n",
       "    }\n",
       "</style>\n",
       "<table border=\"1\" class=\"dataframe\">\n",
       "  <thead>\n",
       "    <tr style=\"text-align: right;\">\n",
       "      <th></th>\n",
       "      <th>first</th>\n",
       "      <th>last</th>\n",
       "      <th>email</th>\n",
       "    </tr>\n",
       "  </thead>\n",
       "  <tbody>\n",
       "    <tr>\n",
       "      <th>0</th>\n",
       "      <td>Isa</td>\n",
       "      <td>Bell</td>\n",
       "      <td>isabell@xyz.com</td>\n",
       "    </tr>\n",
       "    <tr>\n",
       "      <th>1</th>\n",
       "      <td>Jane</td>\n",
       "      <td>Doe</td>\n",
       "      <td>janedoe@xyz.com</td>\n",
       "    </tr>\n",
       "  </tbody>\n",
       "</table>\n",
       "</div>"
      ],
      "text/plain": [
       "  first  last            email\n",
       "0   Isa  Bell  isabell@xyz.com\n",
       "1  Jane   Doe  janedoe@xyz.com"
      ]
     },
     "execution_count": 44,
     "metadata": {},
     "output_type": "execute_result"
    }
   ],
   "source": [
    "df.iloc[[0,1]]"
   ]
  },
  {
   "cell_type": "markdown",
   "id": "2defd9b2-5f39-404a-8f16-e6b670d84e9b",
   "metadata": {},
   "source": [
    "#### Accessing both rows and columns using iloc:\n"
   ]
  },
  {
   "cell_type": "code",
   "execution_count": 52,
   "id": "62143324-909f-448d-969a-e1f8b96dc9f5",
   "metadata": {},
   "outputs": [
    {
     "data": {
      "text/plain": [
       "1      janedoe@xyz.com\n",
       "2    johnbrown@xyz.com\n",
       "Name: email, dtype: object"
      ]
     },
     "execution_count": 52,
     "metadata": {},
     "output_type": "execute_result"
    }
   ],
   "source": [
    "df.iloc[[1,2],2]"
   ]
  },
  {
   "cell_type": "code",
   "execution_count": 53,
   "id": "4b25bf34-0ebd-4421-ac30-a1d28956fb69",
   "metadata": {},
   "outputs": [
    {
     "data": {
      "text/html": [
       "<div>\n",
       "<style scoped>\n",
       "    .dataframe tbody tr th:only-of-type {\n",
       "        vertical-align: middle;\n",
       "    }\n",
       "\n",
       "    .dataframe tbody tr th {\n",
       "        vertical-align: top;\n",
       "    }\n",
       "\n",
       "    .dataframe thead th {\n",
       "        text-align: right;\n",
       "    }\n",
       "</style>\n",
       "<table border=\"1\" class=\"dataframe\">\n",
       "  <thead>\n",
       "    <tr style=\"text-align: right;\">\n",
       "      <th></th>\n",
       "      <th>last</th>\n",
       "      <th>email</th>\n",
       "    </tr>\n",
       "  </thead>\n",
       "  <tbody>\n",
       "    <tr>\n",
       "      <th>1</th>\n",
       "      <td>Doe</td>\n",
       "      <td>janedoe@xyz.com</td>\n",
       "    </tr>\n",
       "    <tr>\n",
       "      <th>2</th>\n",
       "      <td>Brown</td>\n",
       "      <td>johnbrown@xyz.com</td>\n",
       "    </tr>\n",
       "  </tbody>\n",
       "</table>\n",
       "</div>"
      ],
      "text/plain": [
       "    last              email\n",
       "1    Doe    janedoe@xyz.com\n",
       "2  Brown  johnbrown@xyz.com"
      ]
     },
     "execution_count": 53,
     "metadata": {},
     "output_type": "execute_result"
    }
   ],
   "source": [
    "df.iloc[[1,2],[1,2]]"
   ]
  },
  {
   "cell_type": "code",
   "execution_count": 46,
   "id": "8da470be-800e-4872-88f6-0f8940885360",
   "metadata": {},
   "outputs": [
    {
     "data": {
      "text/html": [
       "<div>\n",
       "<style scoped>\n",
       "    .dataframe tbody tr th:only-of-type {\n",
       "        vertical-align: middle;\n",
       "    }\n",
       "\n",
       "    .dataframe tbody tr th {\n",
       "        vertical-align: top;\n",
       "    }\n",
       "\n",
       "    .dataframe thead th {\n",
       "        text-align: right;\n",
       "    }\n",
       "</style>\n",
       "<table border=\"1\" class=\"dataframe\">\n",
       "  <thead>\n",
       "    <tr style=\"text-align: right;\">\n",
       "      <th></th>\n",
       "      <th>first</th>\n",
       "      <th>last</th>\n",
       "      <th>email</th>\n",
       "    </tr>\n",
       "  </thead>\n",
       "  <tbody>\n",
       "    <tr>\n",
       "      <th>0</th>\n",
       "      <td>Isa</td>\n",
       "      <td>Bell</td>\n",
       "      <td>isabell@xyz.com</td>\n",
       "    </tr>\n",
       "    <tr>\n",
       "      <th>1</th>\n",
       "      <td>Jane</td>\n",
       "      <td>Doe</td>\n",
       "      <td>janedoe@xyz.com</td>\n",
       "    </tr>\n",
       "    <tr>\n",
       "      <th>2</th>\n",
       "      <td>John</td>\n",
       "      <td>Brown</td>\n",
       "      <td>johnbrown@xyz.com</td>\n",
       "    </tr>\n",
       "  </tbody>\n",
       "</table>\n",
       "</div>"
      ],
      "text/plain": [
       "  first   last              email\n",
       "0   Isa   Bell    isabell@xyz.com\n",
       "1  Jane    Doe    janedoe@xyz.com\n",
       "2  John  Brown  johnbrown@xyz.com"
      ]
     },
     "execution_count": 46,
     "metadata": {},
     "output_type": "execute_result"
    }
   ],
   "source": [
    "df"
   ]
  },
  {
   "cell_type": "markdown",
   "id": "91d8b847-4227-406c-87b9-d45c77f526b6",
   "metadata": {},
   "source": [
    "#### Accessing both rows and columns using loc:"
   ]
  },
  {
   "cell_type": "code",
   "execution_count": 47,
   "id": "b37d5f85-ec14-48cd-af33-4132830603d7",
   "metadata": {},
   "outputs": [
    {
     "data": {
      "text/plain": [
       "first                Isa\n",
       "last                Bell\n",
       "email    isabell@xyz.com\n",
       "Name: 0, dtype: object"
      ]
     },
     "execution_count": 47,
     "metadata": {},
     "output_type": "execute_result"
    }
   ],
   "source": [
    "df.loc[0]"
   ]
  },
  {
   "cell_type": "code",
   "execution_count": 48,
   "id": "0f33c70e-c0fe-440d-98ce-597cf5688d7b",
   "metadata": {},
   "outputs": [
    {
     "data": {
      "text/html": [
       "<div>\n",
       "<style scoped>\n",
       "    .dataframe tbody tr th:only-of-type {\n",
       "        vertical-align: middle;\n",
       "    }\n",
       "\n",
       "    .dataframe tbody tr th {\n",
       "        vertical-align: top;\n",
       "    }\n",
       "\n",
       "    .dataframe thead th {\n",
       "        text-align: right;\n",
       "    }\n",
       "</style>\n",
       "<table border=\"1\" class=\"dataframe\">\n",
       "  <thead>\n",
       "    <tr style=\"text-align: right;\">\n",
       "      <th></th>\n",
       "      <th>first</th>\n",
       "      <th>last</th>\n",
       "      <th>email</th>\n",
       "    </tr>\n",
       "  </thead>\n",
       "  <tbody>\n",
       "    <tr>\n",
       "      <th>0</th>\n",
       "      <td>Isa</td>\n",
       "      <td>Bell</td>\n",
       "      <td>isabell@xyz.com</td>\n",
       "    </tr>\n",
       "    <tr>\n",
       "      <th>1</th>\n",
       "      <td>Jane</td>\n",
       "      <td>Doe</td>\n",
       "      <td>janedoe@xyz.com</td>\n",
       "    </tr>\n",
       "  </tbody>\n",
       "</table>\n",
       "</div>"
      ],
      "text/plain": [
       "  first  last            email\n",
       "0   Isa  Bell  isabell@xyz.com\n",
       "1  Jane   Doe  janedoe@xyz.com"
      ]
     },
     "execution_count": 48,
     "metadata": {},
     "output_type": "execute_result"
    }
   ],
   "source": [
    "df.loc[[0,1]]"
   ]
  },
  {
   "cell_type": "code",
   "execution_count": 49,
   "id": "04fb3c7a-0970-4433-8872-b0cec949a694",
   "metadata": {},
   "outputs": [
    {
     "data": {
      "text/plain": [
       "0    isabell@xyz.com\n",
       "1    janedoe@xyz.com\n",
       "Name: email, dtype: object"
      ]
     },
     "execution_count": 49,
     "metadata": {},
     "output_type": "execute_result"
    }
   ],
   "source": [
    "df.loc[[0,1],'email']"
   ]
  },
  {
   "cell_type": "code",
   "execution_count": 50,
   "id": "34b13dc7-a461-4ad5-8744-3c99272361ca",
   "metadata": {},
   "outputs": [
    {
     "data": {
      "text/html": [
       "<div>\n",
       "<style scoped>\n",
       "    .dataframe tbody tr th:only-of-type {\n",
       "        vertical-align: middle;\n",
       "    }\n",
       "\n",
       "    .dataframe tbody tr th {\n",
       "        vertical-align: top;\n",
       "    }\n",
       "\n",
       "    .dataframe thead th {\n",
       "        text-align: right;\n",
       "    }\n",
       "</style>\n",
       "<table border=\"1\" class=\"dataframe\">\n",
       "  <thead>\n",
       "    <tr style=\"text-align: right;\">\n",
       "      <th></th>\n",
       "      <th>email</th>\n",
       "      <th>last</th>\n",
       "    </tr>\n",
       "  </thead>\n",
       "  <tbody>\n",
       "    <tr>\n",
       "      <th>0</th>\n",
       "      <td>isabell@xyz.com</td>\n",
       "      <td>Bell</td>\n",
       "    </tr>\n",
       "    <tr>\n",
       "      <th>1</th>\n",
       "      <td>janedoe@xyz.com</td>\n",
       "      <td>Doe</td>\n",
       "    </tr>\n",
       "  </tbody>\n",
       "</table>\n",
       "</div>"
      ],
      "text/plain": [
       "             email  last\n",
       "0  isabell@xyz.com  Bell\n",
       "1  janedoe@xyz.com   Doe"
      ]
     },
     "execution_count": 50,
     "metadata": {},
     "output_type": "execute_result"
    }
   ],
   "source": [
    "df.loc[[0,1],['email','last']]"
   ]
  },
  {
   "cell_type": "markdown",
   "id": "071969d5-a10f-427c-b162-2fdcd279e44e",
   "metadata": {},
   "source": [
    "#### Messing with the data from stackflow:"
   ]
  },
  {
   "cell_type": "code",
   "execution_count": 54,
   "id": "1152f650-b56f-457c-8578-ba04843871a3",
   "metadata": {},
   "outputs": [],
   "source": [
    "df=pd.read_csv('data/survey_results_public.csv')\n",
    "schema_df=pd.read_csv('data/survey_results_schema.csv')"
   ]
  },
  {
   "cell_type": "markdown",
   "id": "707d4ef8-de3e-4d02-8cba-2fa62d43bcd4",
   "metadata": {},
   "source": [
    "#### To check the number of rows and columns:"
   ]
  },
  {
   "cell_type": "code",
   "execution_count": 55,
   "id": "c629ef39-c6fd-4892-8527-f504a0c9c12c",
   "metadata": {},
   "outputs": [
    {
     "data": {
      "text/plain": [
       "(89184, 84)"
      ]
     },
     "execution_count": 55,
     "metadata": {},
     "output_type": "execute_result"
    }
   ],
   "source": [
    "df.shape"
   ]
  },
  {
   "cell_type": "markdown",
   "id": "1eb5f249-c0fb-4af1-886f-d814c4af170a",
   "metadata": {},
   "source": [
    "#### To check the name of columns:"
   ]
  },
  {
   "cell_type": "code",
   "execution_count": 56,
   "id": "9d3fbcbd-cb64-4a58-97c3-8eee7d95cbf2",
   "metadata": {},
   "outputs": [
    {
     "data": {
      "text/plain": [
       "Index(['ResponseId', 'Q120', 'MainBranch', 'Age', 'Employment', 'RemoteWork',\n",
       "       'CodingActivities', 'EdLevel', 'LearnCode', 'LearnCodeOnline',\n",
       "       'LearnCodeCoursesCert', 'YearsCode', 'YearsCodePro', 'DevType',\n",
       "       'OrgSize', 'PurchaseInfluence', 'TechList', 'BuyNewTool', 'Country',\n",
       "       'Currency', 'CompTotal', 'LanguageHaveWorkedWith',\n",
       "       'LanguageWantToWorkWith', 'DatabaseHaveWorkedWith',\n",
       "       'DatabaseWantToWorkWith', 'PlatformHaveWorkedWith',\n",
       "       'PlatformWantToWorkWith', 'WebframeHaveWorkedWith',\n",
       "       'WebframeWantToWorkWith', 'MiscTechHaveWorkedWith',\n",
       "       'MiscTechWantToWorkWith', 'ToolsTechHaveWorkedWith',\n",
       "       'ToolsTechWantToWorkWith', 'NEWCollabToolsHaveWorkedWith',\n",
       "       'NEWCollabToolsWantToWorkWith', 'OpSysPersonal use',\n",
       "       'OpSysProfessional use', 'OfficeStackAsyncHaveWorkedWith',\n",
       "       'OfficeStackAsyncWantToWorkWith', 'OfficeStackSyncHaveWorkedWith',\n",
       "       'OfficeStackSyncWantToWorkWith', 'AISearchHaveWorkedWith',\n",
       "       'AISearchWantToWorkWith', 'AIDevHaveWorkedWith', 'AIDevWantToWorkWith',\n",
       "       'NEWSOSites', 'SOVisitFreq', 'SOAccount', 'SOPartFreq', 'SOComm',\n",
       "       'SOAI', 'AISelect', 'AISent', 'AIAcc', 'AIBen',\n",
       "       'AIToolInterested in Using', 'AIToolCurrently Using',\n",
       "       'AIToolNot interested in Using', 'AINextVery different',\n",
       "       'AINextNeither different nor similar', 'AINextSomewhat similar',\n",
       "       'AINextVery similar', 'AINextSomewhat different', 'TBranch', 'ICorPM',\n",
       "       'WorkExp', 'Knowledge_1', 'Knowledge_2', 'Knowledge_3', 'Knowledge_4',\n",
       "       'Knowledge_5', 'Knowledge_6', 'Knowledge_7', 'Knowledge_8',\n",
       "       'Frequency_1', 'Frequency_2', 'Frequency_3', 'TimeSearching',\n",
       "       'TimeAnswering', 'ProfessionalTech', 'Industry', 'SurveyLength',\n",
       "       'SurveyEase', 'ConvertedCompYearly'],\n",
       "      dtype='object')"
      ]
     },
     "execution_count": 56,
     "metadata": {},
     "output_type": "execute_result"
    }
   ],
   "source": [
    "df.columns"
   ]
  },
  {
   "cell_type": "markdown",
   "id": "be46ba32-bca6-4f46-8501-b4f3af58a319",
   "metadata": {},
   "source": [
    "#### To get the info of particular column:"
   ]
  },
  {
   "cell_type": "code",
   "execution_count": 61,
   "id": "835ce775-7672-4088-8e43-15cb8322495e",
   "metadata": {},
   "outputs": [
    {
     "data": {
      "text/plain": [
       "0                                         NaN\n",
       "1                                      Remote\n",
       "2        Hybrid (some remote, some in-person)\n",
       "3        Hybrid (some remote, some in-person)\n",
       "4                                      Remote\n",
       "                         ...                 \n",
       "89179                                  Remote\n",
       "89180    Hybrid (some remote, some in-person)\n",
       "89181                                     NaN\n",
       "89182    Hybrid (some remote, some in-person)\n",
       "89183    Hybrid (some remote, some in-person)\n",
       "Name: RemoteWork, Length: 89184, dtype: object"
      ]
     },
     "execution_count": 61,
     "metadata": {},
     "output_type": "execute_result"
    }
   ],
   "source": [
    "\n",
    "df['RemoteWork']"
   ]
  },
  {
   "cell_type": "code",
   "execution_count": 63,
   "id": "6cc3bad2-1779-49a8-bfcf-cd13153debf2",
   "metadata": {},
   "outputs": [
    {
     "data": {
      "text/plain": [
       "RemoteWork\n",
       "Hybrid (some remote, some in-person)    31131\n",
       "Remote                                  30566\n",
       "In-person                               12113\n",
       "Name: count, dtype: int64"
      ]
     },
     "execution_count": 63,
     "metadata": {},
     "output_type": "execute_result"
    }
   ],
   "source": [
    "#to check what are the different responses that we got:\n",
    "df['RemoteWork'].value_counts()"
   ]
  },
  {
   "cell_type": "code",
   "execution_count": 65,
   "id": "c57ebf00-f047-49c0-bfe0-aef31b7fc438",
   "metadata": {},
   "outputs": [
    {
     "data": {
      "text/plain": [
       "ResponseId                           1\n",
       "Q120                           I agree\n",
       "MainBranch               None of these\n",
       "Age                    18-24 years old\n",
       "Employment                         NaN\n",
       "                            ...       \n",
       "ProfessionalTech                   NaN\n",
       "Industry                           NaN\n",
       "SurveyLength                       NaN\n",
       "SurveyEase                         NaN\n",
       "ConvertedCompYearly                NaN\n",
       "Name: 0, Length: 84, dtype: object"
      ]
     },
     "execution_count": 65,
     "metadata": {},
     "output_type": "execute_result"
    }
   ],
   "source": [
    "#gives the entire survey results(all the rows) of the person\n",
    "df.loc[0]"
   ]
  },
  {
   "cell_type": "code",
   "execution_count": 66,
   "id": "7cb6288d-1a7e-4359-81b6-522019a89f19",
   "metadata": {},
   "outputs": [
    {
     "data": {
      "text/plain": [
       "nan"
      ]
     },
     "execution_count": 66,
     "metadata": {},
     "output_type": "execute_result"
    }
   ],
   "source": [
    "#To find a particular entry:\n",
    "df.loc[0,'RemoteWork']"
   ]
  },
  {
   "cell_type": "code",
   "execution_count": 67,
   "id": "cb1b2ee4-65ce-4b14-8425-8b4bd9e6f50c",
   "metadata": {},
   "outputs": [
    {
     "data": {
      "text/plain": [
       "0                                     NaN\n",
       "1                                  Remote\n",
       "2    Hybrid (some remote, some in-person)\n",
       "Name: RemoteWork, dtype: object"
      ]
     },
     "execution_count": 67,
     "metadata": {},
     "output_type": "execute_result"
    }
   ],
   "source": [
    "#To find a particular entry for multiple people:\n",
    "df.loc[[0,1,2],'RemoteWork']"
   ]
  },
  {
   "cell_type": "code",
   "execution_count": 69,
   "id": "ccea15f4-6827-4678-bf0b-a3fffa4839bb",
   "metadata": {},
   "outputs": [
    {
     "data": {
      "text/plain": [
       "0                                     NaN\n",
       "1                                  Remote\n",
       "2    Hybrid (some remote, some in-person)\n",
       "Name: RemoteWork, dtype: object"
      ]
     },
     "execution_count": 69,
     "metadata": {},
     "output_type": "execute_result"
    }
   ],
   "source": [
    "#Can also be done using slicing:\n",
    "df.loc[0:2,'RemoteWork'] #The last value is inclusive"
   ]
  },
  {
   "cell_type": "code",
   "execution_count": 70,
   "id": "67a079e6-5947-40ca-988f-e61ae07a8229",
   "metadata": {},
   "outputs": [],
   "source": [
    "#To find more than one entries for multiple people:"
   ]
  },
  {
   "cell_type": "code",
   "execution_count": 71,
   "id": "68a201f9-8559-4bce-aa74-a6c896678175",
   "metadata": {},
   "outputs": [
    {
     "data": {
      "text/html": [
       "<div>\n",
       "<style scoped>\n",
       "    .dataframe tbody tr th:only-of-type {\n",
       "        vertical-align: middle;\n",
       "    }\n",
       "\n",
       "    .dataframe tbody tr th {\n",
       "        vertical-align: top;\n",
       "    }\n",
       "\n",
       "    .dataframe thead th {\n",
       "        text-align: right;\n",
       "    }\n",
       "</style>\n",
       "<table border=\"1\" class=\"dataframe\">\n",
       "  <thead>\n",
       "    <tr style=\"text-align: right;\">\n",
       "      <th></th>\n",
       "      <th>RemoteWork</th>\n",
       "      <th>CodingActivities</th>\n",
       "      <th>EdLevel</th>\n",
       "      <th>LearnCode</th>\n",
       "    </tr>\n",
       "  </thead>\n",
       "  <tbody>\n",
       "    <tr>\n",
       "      <th>0</th>\n",
       "      <td>NaN</td>\n",
       "      <td>NaN</td>\n",
       "      <td>NaN</td>\n",
       "      <td>NaN</td>\n",
       "    </tr>\n",
       "    <tr>\n",
       "      <th>1</th>\n",
       "      <td>Remote</td>\n",
       "      <td>Hobby;Contribute to open-source projects;Boots...</td>\n",
       "      <td>Bachelor’s degree (B.A., B.S., B.Eng., etc.)</td>\n",
       "      <td>Books / Physical media;Colleague;Friend or fam...</td>\n",
       "    </tr>\n",
       "    <tr>\n",
       "      <th>2</th>\n",
       "      <td>Hybrid (some remote, some in-person)</td>\n",
       "      <td>Hobby;Professional development or self-paced l...</td>\n",
       "      <td>Bachelor’s degree (B.A., B.S., B.Eng., etc.)</td>\n",
       "      <td>Books / Physical media;Colleague;On the job tr...</td>\n",
       "    </tr>\n",
       "  </tbody>\n",
       "</table>\n",
       "</div>"
      ],
      "text/plain": [
       "                             RemoteWork  \\\n",
       "0                                   NaN   \n",
       "1                                Remote   \n",
       "2  Hybrid (some remote, some in-person)   \n",
       "\n",
       "                                    CodingActivities  \\\n",
       "0                                                NaN   \n",
       "1  Hobby;Contribute to open-source projects;Boots...   \n",
       "2  Hobby;Professional development or self-paced l...   \n",
       "\n",
       "                                        EdLevel  \\\n",
       "0                                           NaN   \n",
       "1  Bachelor’s degree (B.A., B.S., B.Eng., etc.)   \n",
       "2  Bachelor’s degree (B.A., B.S., B.Eng., etc.)   \n",
       "\n",
       "                                           LearnCode  \n",
       "0                                                NaN  \n",
       "1  Books / Physical media;Colleague;Friend or fam...  \n",
       "2  Books / Physical media;Colleague;On the job tr...  "
      ]
     },
     "execution_count": 71,
     "metadata": {},
     "output_type": "execute_result"
    }
   ],
   "source": [
    "df.loc[[0,1,2],'RemoteWork':'LearnCode']"
   ]
  },
  {
   "cell_type": "code",
   "execution_count": null,
   "id": "a24d62d4-9d6e-4adc-b275-49df0bb9f5b6",
   "metadata": {},
   "outputs": [],
   "source": []
  }
 ],
 "metadata": {
  "kernelspec": {
   "display_name": "Python 3 (ipykernel)",
   "language": "python",
   "name": "python3"
  },
  "language_info": {
   "codemirror_mode": {
    "name": "ipython",
    "version": 3
   },
   "file_extension": ".py",
   "mimetype": "text/x-python",
   "name": "python",
   "nbconvert_exporter": "python",
   "pygments_lexer": "ipython3",
   "version": "3.12.4"
  }
 },
 "nbformat": 4,
 "nbformat_minor": 5
}
