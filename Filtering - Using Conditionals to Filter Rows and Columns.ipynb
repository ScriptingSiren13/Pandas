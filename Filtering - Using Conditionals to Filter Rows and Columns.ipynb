{
 "cells": [
  {
   "cell_type": "code",
   "execution_count": 1,
   "id": "4dd47865-5a61-48a8-aa2b-2fb708e0a127",
   "metadata": {},
   "outputs": [],
   "source": [
    "people={\n",
    "    \"first\":[\"Isa\",\"Jane\",\"John\"],\n",
    "    \"last\":[\"Bell\",\"Doe\",\"Brown\"],\n",
    "    \"email\":[\"isabell@xyz.com\",\"janedoe@xyz.com\",\"johnbrown@xyz.com\"]\n",
    "}"
   ]
  },
  {
   "cell_type": "code",
   "execution_count": 2,
   "id": "ffbcad51-ca30-4cae-bf9e-e6cd95e190b2",
   "metadata": {},
   "outputs": [],
   "source": [
    "import pandas as pd"
   ]
  },
  {
   "cell_type": "code",
   "execution_count": 3,
   "id": "a89cb1c6-8fe7-4c7c-8b90-5e4e4cb558bd",
   "metadata": {},
   "outputs": [],
   "source": [
    "df=pd.DataFrame(people)"
   ]
  },
  {
   "cell_type": "code",
   "execution_count": 4,
   "id": "d18f1a2f-86a0-46bd-aac9-48774f0ab677",
   "metadata": {},
   "outputs": [
    {
     "data": {
      "text/html": [
       "<div>\n",
       "<style scoped>\n",
       "    .dataframe tbody tr th:only-of-type {\n",
       "        vertical-align: middle;\n",
       "    }\n",
       "\n",
       "    .dataframe tbody tr th {\n",
       "        vertical-align: top;\n",
       "    }\n",
       "\n",
       "    .dataframe thead th {\n",
       "        text-align: right;\n",
       "    }\n",
       "</style>\n",
       "<table border=\"1\" class=\"dataframe\">\n",
       "  <thead>\n",
       "    <tr style=\"text-align: right;\">\n",
       "      <th></th>\n",
       "      <th>first</th>\n",
       "      <th>last</th>\n",
       "      <th>email</th>\n",
       "    </tr>\n",
       "  </thead>\n",
       "  <tbody>\n",
       "    <tr>\n",
       "      <th>0</th>\n",
       "      <td>Isa</td>\n",
       "      <td>Bell</td>\n",
       "      <td>isabell@xyz.com</td>\n",
       "    </tr>\n",
       "    <tr>\n",
       "      <th>1</th>\n",
       "      <td>Jane</td>\n",
       "      <td>Doe</td>\n",
       "      <td>janedoe@xyz.com</td>\n",
       "    </tr>\n",
       "    <tr>\n",
       "      <th>2</th>\n",
       "      <td>John</td>\n",
       "      <td>Brown</td>\n",
       "      <td>johnbrown@xyz.com</td>\n",
       "    </tr>\n",
       "  </tbody>\n",
       "</table>\n",
       "</div>"
      ],
      "text/plain": [
       "  first   last              email\n",
       "0   Isa   Bell    isabell@xyz.com\n",
       "1  Jane    Doe    janedoe@xyz.com\n",
       "2  John  Brown  johnbrown@xyz.com"
      ]
     },
     "execution_count": 4,
     "metadata": {},
     "output_type": "execute_result"
    }
   ],
   "source": [
    "df"
   ]
  },
  {
   "cell_type": "markdown",
   "id": "843046ea-d21e-46e4-ad0e-58b09cf4fe6e",
   "metadata": {},
   "source": [
    "#### Filter Mask"
   ]
  },
  {
   "cell_type": "code",
   "execution_count": 8,
   "id": "e1b77614-8c6c-4ba3-bd97-d90b5424601d",
   "metadata": {},
   "outputs": [],
   "source": [
    "#Gives us all the rows that help us to meet a criteria:\n",
    "filt=(df['last']=='Doe')"
   ]
  },
  {
   "cell_type": "code",
   "execution_count": 7,
   "id": "1ec88cb1-a917-4e95-85fb-40df5faa346e",
   "metadata": {},
   "outputs": [
    {
     "data": {
      "text/plain": [
       "0    False\n",
       "1     True\n",
       "2    False\n",
       "Name: last, dtype: bool"
      ]
     },
     "execution_count": 7,
     "metadata": {},
     "output_type": "execute_result"
    }
   ],
   "source": [
    "filt"
   ]
  },
  {
   "cell_type": "markdown",
   "id": "4356d09f-7a7b-49c6-80e1-b5a748f1b97f",
   "metadata": {},
   "source": [
    "#### Filter data frame"
   ]
  },
  {
   "cell_type": "code",
   "execution_count": 12,
   "id": "1cf0ce23-e8e9-4f4d-8523-7c06eba24fff",
   "metadata": {},
   "outputs": [
    {
     "data": {
      "text/html": [
       "<div>\n",
       "<style scoped>\n",
       "    .dataframe tbody tr th:only-of-type {\n",
       "        vertical-align: middle;\n",
       "    }\n",
       "\n",
       "    .dataframe tbody tr th {\n",
       "        vertical-align: top;\n",
       "    }\n",
       "\n",
       "    .dataframe thead th {\n",
       "        text-align: right;\n",
       "    }\n",
       "</style>\n",
       "<table border=\"1\" class=\"dataframe\">\n",
       "  <thead>\n",
       "    <tr style=\"text-align: right;\">\n",
       "      <th></th>\n",
       "      <th>first</th>\n",
       "      <th>last</th>\n",
       "      <th>email</th>\n",
       "    </tr>\n",
       "  </thead>\n",
       "  <tbody>\n",
       "    <tr>\n",
       "      <th>1</th>\n",
       "      <td>Jane</td>\n",
       "      <td>Doe</td>\n",
       "      <td>janedoe@xyz.com</td>\n",
       "    </tr>\n",
       "  </tbody>\n",
       "</table>\n",
       "</div>"
      ],
      "text/plain": [
       "  first last            email\n",
       "1  Jane  Doe  janedoe@xyz.com"
      ]
     },
     "execution_count": 12,
     "metadata": {},
     "output_type": "execute_result"
    }
   ],
   "source": [
    "df[filt] #or:\n",
    "#df[df['last']=='Doe']"
   ]
  },
  {
   "cell_type": "code",
   "execution_count": 13,
   "id": "81df9854-edc0-42d0-8aa3-540f6b2eca54",
   "metadata": {},
   "outputs": [
    {
     "data": {
      "text/html": [
       "<div>\n",
       "<style scoped>\n",
       "    .dataframe tbody tr th:only-of-type {\n",
       "        vertical-align: middle;\n",
       "    }\n",
       "\n",
       "    .dataframe tbody tr th {\n",
       "        vertical-align: top;\n",
       "    }\n",
       "\n",
       "    .dataframe thead th {\n",
       "        text-align: right;\n",
       "    }\n",
       "</style>\n",
       "<table border=\"1\" class=\"dataframe\">\n",
       "  <thead>\n",
       "    <tr style=\"text-align: right;\">\n",
       "      <th></th>\n",
       "      <th>first</th>\n",
       "      <th>last</th>\n",
       "      <th>email</th>\n",
       "    </tr>\n",
       "  </thead>\n",
       "  <tbody>\n",
       "    <tr>\n",
       "      <th>1</th>\n",
       "      <td>Jane</td>\n",
       "      <td>Doe</td>\n",
       "      <td>janedoe@xyz.com</td>\n",
       "    </tr>\n",
       "  </tbody>\n",
       "</table>\n",
       "</div>"
      ],
      "text/plain": [
       "  first last            email\n",
       "1  Jane  Doe  janedoe@xyz.com"
      ]
     },
     "execution_count": 13,
     "metadata": {},
     "output_type": "execute_result"
    }
   ],
   "source": [
    "#This can also be done:\n",
    "df.loc[filt]"
   ]
  },
  {
   "cell_type": "code",
   "execution_count": 14,
   "id": "e6761632-da41-4bc4-93c6-c23d4e941666",
   "metadata": {},
   "outputs": [
    {
     "data": {
      "text/plain": [
       "1    janedoe@xyz.com\n",
       "Name: email, dtype: object"
      ]
     },
     "execution_count": 14,
     "metadata": {},
     "output_type": "execute_result"
    }
   ],
   "source": [
    "#We can also grab a specific column:\n",
    "df.loc[filt,'email']"
   ]
  },
  {
   "cell_type": "markdown",
   "id": "ce58d1e9-1dc1-41b8-b1f6-b00961a212ae",
   "metadata": {},
   "source": [
    "#### Using the operators & and | for filtering:\n"
   ]
  },
  {
   "cell_type": "code",
   "execution_count": 17,
   "id": "8c0792e3-cc8e-4b90-a655-27c04eebf3bf",
   "metadata": {},
   "outputs": [
    {
     "data": {
      "text/plain": [
       "0    False\n",
       "1     True\n",
       "2    False\n",
       "dtype: bool"
      ]
     },
     "execution_count": 17,
     "metadata": {},
     "output_type": "execute_result"
    }
   ],
   "source": [
    "(df['last']=='Doe') & (df['first']== 'Jane')"
   ]
  },
  {
   "cell_type": "code",
   "execution_count": 18,
   "id": "e117aba0-ab92-48eb-b61c-6e84a90f4958",
   "metadata": {},
   "outputs": [
    {
     "data": {
      "text/plain": [
       "0    False\n",
       "1    False\n",
       "2    False\n",
       "dtype: bool"
      ]
     },
     "execution_count": 18,
     "metadata": {},
     "output_type": "execute_result"
    }
   ],
   "source": [
    "(df['last']=='Isa') | (df['first']=='Bell')"
   ]
  },
  {
   "cell_type": "markdown",
   "id": "88fea525-e498-46f3-a784-726a32b94dc8",
   "metadata": {},
   "source": [
    "#### To do the opposite of Filt:"
   ]
  },
  {
   "cell_type": "code",
   "execution_count": null,
   "id": "845954f8-fb9c-4e41-a2af-e49cb8783ce2",
   "metadata": {},
   "outputs": [],
   "source": []
  }
 ],
 "metadata": {
  "kernelspec": {
   "display_name": "Python 3 (ipykernel)",
   "language": "python",
   "name": "python3"
  },
  "language_info": {
   "codemirror_mode": {
    "name": "ipython",
    "version": 3
   },
   "file_extension": ".py",
   "mimetype": "text/x-python",
   "name": "python",
   "nbconvert_exporter": "python",
   "pygments_lexer": "ipython3",
   "version": "3.12.4"
  }
 },
 "nbformat": 4,
 "nbformat_minor": 5
}
